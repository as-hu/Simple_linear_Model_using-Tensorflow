{
 "cells": [
  {
   "cell_type": "code",
   "execution_count": 1,
   "metadata": {},
   "outputs": [
    {
     "name": "stderr",
     "output_type": "stream",
     "text": [
      "C:\\Users\\Inspiron\\Anaconda3\\lib\\site-packages\\tensorflow\\python\\framework\\dtypes.py:493: FutureWarning: Passing (type, 1) or '1type' as a synonym of type is deprecated; in a future version of numpy, it will be understood as (type, (1,)) / '(1,)type'.\n",
      "  _np_qint8 = np.dtype([(\"qint8\", np.int8, 1)])\n",
      "C:\\Users\\Inspiron\\Anaconda3\\lib\\site-packages\\tensorflow\\python\\framework\\dtypes.py:494: FutureWarning: Passing (type, 1) or '1type' as a synonym of type is deprecated; in a future version of numpy, it will be understood as (type, (1,)) / '(1,)type'.\n",
      "  _np_quint8 = np.dtype([(\"quint8\", np.uint8, 1)])\n",
      "C:\\Users\\Inspiron\\Anaconda3\\lib\\site-packages\\tensorflow\\python\\framework\\dtypes.py:495: FutureWarning: Passing (type, 1) or '1type' as a synonym of type is deprecated; in a future version of numpy, it will be understood as (type, (1,)) / '(1,)type'.\n",
      "  _np_qint16 = np.dtype([(\"qint16\", np.int16, 1)])\n",
      "C:\\Users\\Inspiron\\Anaconda3\\lib\\site-packages\\tensorflow\\python\\framework\\dtypes.py:496: FutureWarning: Passing (type, 1) or '1type' as a synonym of type is deprecated; in a future version of numpy, it will be understood as (type, (1,)) / '(1,)type'.\n",
      "  _np_quint16 = np.dtype([(\"quint16\", np.uint16, 1)])\n",
      "C:\\Users\\Inspiron\\Anaconda3\\lib\\site-packages\\tensorflow\\python\\framework\\dtypes.py:497: FutureWarning: Passing (type, 1) or '1type' as a synonym of type is deprecated; in a future version of numpy, it will be understood as (type, (1,)) / '(1,)type'.\n",
      "  _np_qint32 = np.dtype([(\"qint32\", np.int32, 1)])\n",
      "C:\\Users\\Inspiron\\Anaconda3\\lib\\site-packages\\tensorflow\\python\\framework\\dtypes.py:502: FutureWarning: Passing (type, 1) or '1type' as a synonym of type is deprecated; in a future version of numpy, it will be understood as (type, (1,)) / '(1,)type'.\n",
      "  np_resource = np.dtype([(\"resource\", np.ubyte, 1)])\n",
      "C:\\Users\\Inspiron\\Anaconda3\\lib\\site-packages\\h5py\\__init__.py:36: FutureWarning: Conversion of the second argument of issubdtype from `float` to `np.floating` is deprecated. In future, it will be treated as `np.float64 == np.dtype(float).type`.\n",
      "  from ._conv import register_converters as _register_converters\n"
     ]
    }
   ],
   "source": [
    "import tensorflow as tf"
   ]
  },
  {
   "cell_type": "code",
   "execution_count": 3,
   "metadata": {},
   "outputs": [
    {
     "name": "stdout",
     "output_type": "stream",
     "text": [
      "12.0\n"
     ]
    }
   ],
   "source": [
    "a=tf.constant(3.0)\n",
    "b=tf.constant(4.0)\n",
    "c=a*b\n",
    "#if we directly print c then it will print Abstract Tensor\n",
    "#we have to create Session in orser to compute computation Graph\n",
    "sess=tf.Session()\n",
    "print(sess.run(c))\n",
    "sess.close()\n",
    "\n",
    "#TENSORBOARED-->SKIPPED"
   ]
  },
  {
   "cell_type": "code",
   "execution_count": 9,
   "metadata": {},
   "outputs": [
    {
     "name": "stdout",
     "output_type": "stream",
     "text": [
      "[0.         0.3        0.6        0.90000004]\n"
     ]
    }
   ],
   "source": [
    "#Simpe Linear Model (Using variable and Placeholders)\n",
    "\n",
    "w=tf.Variable([.3],tf.float32)\n",
    "b=tf.Variable([-.3],tf.float32)\n",
    "\n",
    "x=tf.placeholder(tf.float32)\n",
    "linear_model=w*x+b\n",
    "\n",
    "sess=tf.Session();\n",
    "init=tf.global_variables_initializer()\n",
    "sess.run(init)\n",
    "print(sess.run(linear_model,{x:[1,2,3,4]}))\n",
    "sess.close()\n"
   ]
  },
  {
   "cell_type": "code",
   "execution_count": 12,
   "metadata": {},
   "outputs": [
    {
     "name": "stdout",
     "output_type": "stream",
     "text": [
      "23.66\n"
     ]
    }
   ],
   "source": [
    "#TO understand how good the model is we need to compute the loss\n",
    "\n",
    "w=tf.Variable([.3],tf.float32)\n",
    "b=tf.Variable([-.3],tf.float32)\n",
    "\n",
    "x=tf.placeholder(tf.float32)\n",
    "linear_model=w*x+b\n",
    "\n",
    "#Actual output\n",
    "y=tf.placeholder(tf.float32)\n",
    "\n",
    "#calculating Loss\n",
    "squaredelta=tf.square(linear_model - y)\n",
    "loss=tf.reduce_sum(squaredelta)\n",
    "\n",
    "sess=tf.Session()\n",
    "init=tf.global_variables_initializer()\n",
    "sess.run(init)\n",
    "\n",
    "print(sess.run(loss,{x:[1,2,3,4],y:[0,-1,-2,-3]}))\n",
    "#not necessary just to free up the resoursces in use\n",
    "sess.close()"
   ]
  },
  {
   "cell_type": "code",
   "execution_count": 15,
   "metadata": {},
   "outputs": [
    {
     "name": "stdout",
     "output_type": "stream",
     "text": [
      "[array([-0.9999969], dtype=float32), array([0.9999908], dtype=float32)]\n"
     ]
    }
   ],
   "source": [
    "#now we have optimisers that will reduce the loss\n",
    "#one such optimiser is Gradient Descent OPtimiser\n",
    "#we want to update our variables where our error is decressing(Gradient Descent -->Crux)\n",
    "#1.compute the Error 2.Compute rate of change of error w.r.t parameter 2. update Parameter\n",
    "\n",
    "w=tf.Variable([.3],tf.float32)\n",
    "b=tf.Variable([-.3],tf.float32)\n",
    "\n",
    "x=tf.placeholder(tf.float32)\n",
    "linear_model=w*x+b\n",
    "\n",
    "#Actual output\n",
    "y=tf.placeholder(tf.float32)\n",
    "\n",
    "#calculating Loss\n",
    "squaredelta=tf.square(linear_model - y)\n",
    "loss=tf.reduce_sum(squaredelta)\n",
    "\n",
    "#optimiser\n",
    "#lr-->0.01 in these steps my learning rate will be updated\n",
    "optimize=tf.train.GradientDescentOptimizer(0.01)\n",
    "train=optimize.minimize(loss)\n",
    "\n",
    "sess=tf.Session()\n",
    "init=tf.global_variables_initializer()\n",
    "sess.run(init)\n",
    "#1000 epocs means that many times my parameters will be updated\n",
    "for i in range(1000):\n",
    "    sess.run(train,{x:[1,2,3,4],y:[0,-1,-2,-3]})\n",
    "print(sess.run([w,b]))    "
   ]
  },
  {
   "cell_type": "code",
   "execution_count": null,
   "metadata": {},
   "outputs": [],
   "source": []
  }
 ],
 "metadata": {
  "kernelspec": {
   "display_name": "Python 3",
   "language": "python",
   "name": "python3"
  },
  "language_info": {
   "codemirror_mode": {
    "name": "ipython",
    "version": 3
   },
   "file_extension": ".py",
   "mimetype": "text/x-python",
   "name": "python",
   "nbconvert_exporter": "python",
   "pygments_lexer": "ipython3",
   "version": "3.6.5"
  }
 },
 "nbformat": 4,
 "nbformat_minor": 2
}
